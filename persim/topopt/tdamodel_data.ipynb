{
 "cells": [
  {
   "cell_type": "markdown",
   "metadata": {},
   "source": [
    "## Construcing Structured TDA Model Data"
   ]
  },
  {
   "cell_type": "code",
   "execution_count": 10,
   "metadata": {},
   "outputs": [],
   "source": [
    "from model_selection import TDAModelData\n",
    "\n",
    "import numpy as np\n",
    "\n",
    "from pprint import pprint\n",
    "\n",
    "def rand_dgms(n=10, min_pairs=20, max_pairs=50):\n",
    "    dgms = [np.random.rand(np.random.randint(min_pairs,max_pairs),2) for _ in range(n)]\n",
    "    for dgm in dgms:\n",
    "        dgm[:,1] = dgm[:,0]+dgm[:,1]\n",
    "    \n",
    "    return dgms\n",
    "\n",
    "def rand_features(n=10, num_features=20):\n",
    "    return np.random.rand(n, num_features)\n",
    "\n",
    "def rand_targets(n=10, classification=False):\n",
    "    if not classification:\n",
    "        return np.random.rand(n)\n",
    "    else:\n",
    "        return np.random.choice([0,1], size=(n,), replace=True)"
   ]
  },
  {
   "cell_type": "markdown",
   "metadata": {},
   "source": [
    "#### TDAModelData() provides simple storage of data samples, features, persistence diagrams, and target values for use with model hyperparameter optimization. "
   ]
  },
  {
   "cell_type": "code",
   "execution_count": 32,
   "metadata": {},
   "outputs": [],
   "source": [
    "tdata = TDAModelData()\n",
    "\n",
    "# generate a feature dataframe\n",
    "features = rand_features(n=10, num_features=5)\n",
    "\n",
    "# generate some target labels\n",
    "targets = rand_targets(n=10, classification=True)\n",
    "\n",
    "tdata = TDAModelData()\n",
    "tdata.add_features(features)\n",
    "tdata.add_data(targets=targets)"
   ]
  },
  {
   "cell_type": "code",
   "execution_count": 31,
   "metadata": {},
   "outputs": [
    {
     "data": {
      "text/plain": [
       "{0: [array([[0.46274659, 0.58101372],\n",
       "         [0.44176286, 0.85657043],\n",
       "         [0.32032551, 0.60691403],\n",
       "         [0.86786461, 1.01441894],\n",
       "         [0.38599122, 0.97639172],\n",
       "         [0.19505765, 0.71042272],\n",
       "         [0.78375602, 1.75519248]]),\n",
       "  array([[0.64583576, 1.42757714],\n",
       "         [0.32473638, 0.56075271],\n",
       "         [0.77939709, 0.99724269]]),\n",
       "  array([[0.76158212, 0.90908276],\n",
       "         [0.19434078, 1.09368717],\n",
       "         [0.58474618, 0.66704516],\n",
       "         [0.30045828, 0.4869861 ],\n",
       "         [0.89588426, 1.63497834],\n",
       "         [0.78541599, 1.73956136],\n",
       "         [0.76426566, 0.90337783],\n",
       "         [0.09624634, 0.64592247],\n",
       "         [0.88575066, 1.71600533]]),\n",
       "  array([[0.47411612, 1.10493522],\n",
       "         [0.46007052, 1.17058741],\n",
       "         [0.24497332, 0.26553821],\n",
       "         [0.11562964, 0.87424315],\n",
       "         [0.55400314, 1.27323142],\n",
       "         [0.65593714, 1.27908897],\n",
       "         [0.55539799, 0.65493069],\n",
       "         [0.98619232, 1.09180693]]),\n",
       "  array([[0.11025656, 0.240153  ],\n",
       "         [0.36366635, 1.07996847],\n",
       "         [0.4604984 , 0.74288579],\n",
       "         [0.03585228, 0.59841638],\n",
       "         [0.47857974, 1.27023257],\n",
       "         [0.74601942, 0.98141973],\n",
       "         [0.23017556, 0.2881237 ],\n",
       "         [0.96945977, 1.01658512],\n",
       "         [0.06422227, 0.9956005 ]]),\n",
       "  array([[0.93839252, 1.33928723],\n",
       "         [0.43081825, 1.2197006 ],\n",
       "         [0.5431588 , 1.18569361]]),\n",
       "  array([[0.98719798, 1.23267718],\n",
       "         [0.27793338, 0.57647654],\n",
       "         [0.48942544, 0.94835333]]),\n",
       "  array([[0.38830044, 1.34369515],\n",
       "         [0.17499627, 0.99611258],\n",
       "         [0.34481345, 0.63591859],\n",
       "         [0.26422174, 0.40084415],\n",
       "         [0.56027327, 0.62181576],\n",
       "         [0.54069353, 1.06528692],\n",
       "         [0.36720387, 1.1556704 ],\n",
       "         [0.14231425, 0.82595346],\n",
       "         [0.66122034, 0.6936495 ]]),\n",
       "  array([[0.21232599, 0.91876471],\n",
       "         [0.70062741, 0.86833417],\n",
       "         [0.01135502, 0.82426296],\n",
       "         [0.73029409, 1.01745127],\n",
       "         [0.89581485, 1.55915723]]),\n",
       "  array([[0.01076993, 0.39852296],\n",
       "         [0.43914931, 1.00500775],\n",
       "         [0.80306262, 1.68470264],\n",
       "         [0.1837131 , 0.76932724]])],\n",
       " 1: [array([[0.7992496 , 1.61423456],\n",
       "         [0.49673709, 0.84753188],\n",
       "         [0.66661677, 0.9393294 ]]),\n",
       "  array([[0.72384823, 1.54842596],\n",
       "         [0.5107522 , 0.73248989],\n",
       "         [0.25090859, 0.34882328],\n",
       "         [0.28564019, 1.03569569],\n",
       "         [0.29333353, 0.30215694],\n",
       "         [0.89870856, 1.40429424]]),\n",
       "  array([[0.05695173, 0.32861712],\n",
       "         [0.79194805, 0.88847704],\n",
       "         [0.05390553, 0.1075117 ],\n",
       "         [0.55426719, 1.12242052],\n",
       "         [0.45022065, 1.21646243]]),\n",
       "  array([[0.09360968, 0.51962249],\n",
       "         [0.81820264, 1.28045872],\n",
       "         [0.40817639, 1.10690576],\n",
       "         [0.80101427, 1.0234579 ],\n",
       "         [0.47132976, 0.73086489],\n",
       "         [0.87663002, 1.64324201],\n",
       "         [0.9344785 , 1.40085948]]),\n",
       "  array([[0.51012366, 1.34084251],\n",
       "         [0.80279135, 1.0342584 ],\n",
       "         [0.23341953, 1.11868132],\n",
       "         [0.02688398, 0.38824547],\n",
       "         [0.3322145 , 0.96941599]]),\n",
       "  array([[0.18154916, 0.99672983],\n",
       "         [0.42170138, 0.67575686],\n",
       "         [0.85522352, 1.25848243]]),\n",
       "  array([[0.32524588, 1.21590375],\n",
       "         [0.49375215, 1.38823095],\n",
       "         [0.84898524, 1.44235348],\n",
       "         [0.51127808, 0.74521805],\n",
       "         [0.83445814, 1.61215043],\n",
       "         [0.49487189, 1.46377145],\n",
       "         [0.83824455, 0.87093559],\n",
       "         [0.10576527, 0.97013537]]),\n",
       "  array([[0.82517529, 1.22048414],\n",
       "         [0.75640984, 0.97534912],\n",
       "         [0.02278897, 0.81632857],\n",
       "         [0.13847578, 0.32354015],\n",
       "         [0.16423363, 1.13704985],\n",
       "         [0.25733278, 0.53273831],\n",
       "         [0.74969018, 1.44334146]]),\n",
       "  array([[0.77452196, 1.43800297],\n",
       "         [0.0547537 , 0.27952004],\n",
       "         [0.47628785, 0.53116424]]),\n",
       "  array([[0.56970546, 1.04132444],\n",
       "         [0.89167873, 1.74521779],\n",
       "         [0.86337663, 1.3560352 ]])],\n",
       " 2: [array([[0.25331785, 1.17183241],\n",
       "         [0.26611766, 1.07476161],\n",
       "         [0.6778505 , 0.72809646],\n",
       "         [0.90521895, 1.21725368],\n",
       "         [0.32528024, 1.01561875],\n",
       "         [0.93976016, 1.87253972],\n",
       "         [0.8742006 , 0.90357835],\n",
       "         [0.44986485, 0.97006197]]),\n",
       "  array([[0.10241764, 0.79548907],\n",
       "         [0.93880304, 1.56920618],\n",
       "         [0.57615973, 1.50464537],\n",
       "         [0.90356261, 0.99631438]]),\n",
       "  array([[0.82967171, 0.90362489],\n",
       "         [0.35009112, 1.01522063],\n",
       "         [0.33907784, 0.74351974],\n",
       "         [0.19540513, 1.19281656],\n",
       "         [0.3679359 , 1.26400979],\n",
       "         [0.14529915, 1.04724316],\n",
       "         [0.96704497, 1.50142511],\n",
       "         [0.46679738, 1.40413572]]),\n",
       "  array([[0.92356542, 1.91672662],\n",
       "         [0.51108984, 1.1007752 ],\n",
       "         [0.02536465, 0.59924796]]),\n",
       "  array([[0.22378633, 1.17547941],\n",
       "         [0.40893728, 0.52835003],\n",
       "         [0.19648027, 1.07017479],\n",
       "         [0.59672697, 1.1027977 ],\n",
       "         [0.8126469 , 1.43075089]]),\n",
       "  array([[0.19569534, 0.23955536],\n",
       "         [0.30149733, 0.37616285],\n",
       "         [0.11921003, 0.74406379]]),\n",
       "  array([[0.61370163, 0.62404563],\n",
       "         [0.74155792, 1.26252819],\n",
       "         [0.73856168, 1.48172581],\n",
       "         [0.09732338, 0.46905564]]),\n",
       "  array([[0.26787572, 0.36062624],\n",
       "         [0.18934232, 0.24425475],\n",
       "         [0.23190075, 0.69016873],\n",
       "         [0.91238514, 1.76373086],\n",
       "         [0.64240054, 0.79948608],\n",
       "         [0.38729648, 0.71100825],\n",
       "         [0.42994481, 1.23458138],\n",
       "         [0.52016587, 0.60847011],\n",
       "         [0.01434969, 0.80849725]]),\n",
       "  array([[0.82965156, 0.90461792],\n",
       "         [0.06616732, 0.21127203],\n",
       "         [0.23930803, 0.37532311],\n",
       "         [0.13958274, 0.64014318],\n",
       "         [0.94983214, 1.63983125],\n",
       "         [0.06840597, 0.28487443],\n",
       "         [0.42828368, 0.69124748],\n",
       "         [0.72690648, 1.25698638],\n",
       "         [0.44086543, 0.69916689]]),\n",
       "  array([[0.87089104, 1.82248115],\n",
       "         [0.47804569, 0.52046146],\n",
       "         [0.26263021, 0.53538375],\n",
       "         [0.29320056, 0.89085252],\n",
       "         [0.95266165, 1.82060643],\n",
       "         [0.85163747, 1.42535664],\n",
       "         [0.6008751 , 1.560709  ],\n",
       "         [0.79480607, 1.75947696],\n",
       "         [0.15561862, 0.90976622]])]}"
      ]
     },
     "execution_count": 31,
     "metadata": {},
     "output_type": "execute_result"
    }
   ],
   "source": [
    "# Add diagrams all at once or one dimension at a time.\n",
    "tdata = TDAModelData()\n",
    "\n",
    "pers_dgms = {0: rand_dgms(n=10, min_pairs=3, max_pairs=10), 1: rand_dgms(n=10, min_pairs=3, max_pairs=10)}\n",
    "tdata.add_diagrams(pers_dgms)\n",
    "tdata.add_diagrams(rand_dgms(n=10, min_pairs=3, max_pairs=10), dim=2)\n",
    "\n",
    "tdata.pers_dgms"
   ]
  },
  {
   "cell_type": "markdown",
   "metadata": {},
   "source": [
    "#### The class handles data type and shape validation, to ensure downstream methods will work seemlessly, and provides data validation and reports informative errors and warnings.\n",
    "* All data must be of the same length, corresponding to the number of data samples. \n",
    "* Persistence diagrams can be a dictionary keeyd by homological dimension with values equal to iterable collection of (*,2) numpy arrays.\n",
    "* Features must be an (N,k) numpy array, where N is the number of samples, k is the number of features.\n",
    "* Targets must be an (N,) numpy vector, where N is the number of samples. \n",
    "* Data may be an iterable collection of arbitrary data."
   ]
  },
  {
   "cell_type": "code",
   "execution_count": 33,
   "metadata": {},
   "outputs": [
    {
     "ename": "ValueError",
     "evalue": "All data inputs must be iterables of the same size. Expected 10 diagrams.",
     "output_type": "error",
     "traceback": [
      "\u001b[1;31m---------------------------------------------------------------------------\u001b[0m",
      "\u001b[1;31mValueError\u001b[0m                                Traceback (most recent call last)",
      "\u001b[1;32m<ipython-input-33-23e03e368202>\u001b[0m in \u001b[0;36m<module>\u001b[1;34m\u001b[0m\n\u001b[0;32m      3\u001b[0m \u001b[1;31m# add diagrams one dimension at a time\u001b[0m\u001b[1;33m\u001b[0m\u001b[1;33m\u001b[0m\u001b[1;33m\u001b[0m\u001b[0m\n\u001b[0;32m      4\u001b[0m \u001b[0mtdata\u001b[0m\u001b[1;33m.\u001b[0m\u001b[0madd_diagrams\u001b[0m\u001b[1;33m(\u001b[0m\u001b[0mrand_dgms\u001b[0m\u001b[1;33m(\u001b[0m\u001b[0mn\u001b[0m\u001b[1;33m=\u001b[0m\u001b[1;36m10\u001b[0m\u001b[1;33m,\u001b[0m \u001b[0mmin_pairs\u001b[0m\u001b[1;33m=\u001b[0m\u001b[1;36m3\u001b[0m\u001b[1;33m,\u001b[0m \u001b[0mmax_pairs\u001b[0m\u001b[1;33m=\u001b[0m\u001b[1;36m10\u001b[0m\u001b[1;33m)\u001b[0m\u001b[1;33m,\u001b[0m \u001b[0mdim\u001b[0m\u001b[1;33m=\u001b[0m\u001b[1;36m1\u001b[0m\u001b[1;33m)\u001b[0m\u001b[1;33m\u001b[0m\u001b[1;33m\u001b[0m\u001b[0m\n\u001b[1;32m----> 5\u001b[1;33m \u001b[0mtdata\u001b[0m\u001b[1;33m.\u001b[0m\u001b[0madd_diagrams\u001b[0m\u001b[1;33m(\u001b[0m\u001b[0mrand_dgms\u001b[0m\u001b[1;33m(\u001b[0m\u001b[0mn\u001b[0m\u001b[1;33m=\u001b[0m\u001b[1;36m11\u001b[0m\u001b[1;33m,\u001b[0m \u001b[0mmin_pairs\u001b[0m\u001b[1;33m=\u001b[0m\u001b[1;36m3\u001b[0m\u001b[1;33m,\u001b[0m \u001b[0mmax_pairs\u001b[0m\u001b[1;33m=\u001b[0m\u001b[1;36m10\u001b[0m\u001b[1;33m)\u001b[0m\u001b[1;33m,\u001b[0m \u001b[0mdim\u001b[0m\u001b[1;33m=\u001b[0m\u001b[1;36m2\u001b[0m\u001b[1;33m)\u001b[0m\u001b[1;33m\u001b[0m\u001b[1;33m\u001b[0m\u001b[0m\n\u001b[0m",
      "\u001b[1;32mD:\\research\\sd2\\work\\persim\\persim\\topopt\\model_selection.py\u001b[0m in \u001b[0;36madd_diagrams\u001b[1;34m(self, pers_dgms, dim)\u001b[0m\n\u001b[0;32m    134\u001b[0m \u001b[1;33m\u001b[0m\u001b[0m\n\u001b[0;32m    135\u001b[0m             \u001b[1;32mif\u001b[0m \u001b[0mdim\u001b[0m \u001b[1;32mis\u001b[0m \u001b[1;32mNone\u001b[0m\u001b[1;33m:\u001b[0m\u001b[1;33m\u001b[0m\u001b[1;33m\u001b[0m\u001b[0m\n\u001b[1;32m--> 136\u001b[1;33m                 \u001b[1;32mraise\u001b[0m \u001b[0mValueError\u001b[0m\u001b[1;33m(\u001b[0m\u001b[1;34m\"Please specify the homological dimension of the persistence diagrams using the dim argument.\"\u001b[0m\u001b[1;33m)\u001b[0m\u001b[1;33m\u001b[0m\u001b[1;33m\u001b[0m\u001b[0m\n\u001b[0m\u001b[0;32m    137\u001b[0m \u001b[1;33m\u001b[0m\u001b[0m\n\u001b[0;32m    138\u001b[0m             \u001b[1;32mfor\u001b[0m \u001b[0md\u001b[0m\u001b[1;33m,\u001b[0m \u001b[0mdgms\u001b[0m \u001b[1;32min\u001b[0m \u001b[0mself\u001b[0m\u001b[1;33m.\u001b[0m\u001b[0mpers_dgms\u001b[0m\u001b[1;33m.\u001b[0m\u001b[0mitems\u001b[0m\u001b[1;33m(\u001b[0m\u001b[1;33m)\u001b[0m\u001b[1;33m:\u001b[0m\u001b[1;33m\u001b[0m\u001b[1;33m\u001b[0m\u001b[0m\n",
      "\u001b[1;31mValueError\u001b[0m: All data inputs must be iterables of the same size. Expected 10 diagrams."
     ]
    }
   ],
   "source": [
    "tdata = TDAModelData()\n",
    "\n",
    "# add diagrams one dimension at a time\n",
    "tdata.add_diagrams(rand_dgms(n=10, min_pairs=3, max_pairs=10), dim=1)\n",
    "tdata.add_diagrams(rand_dgms(n=11, min_pairs=3, max_pairs=10), dim=2)"
   ]
  },
  {
   "cell_type": "code",
   "execution_count": 34,
   "metadata": {},
   "outputs": [],
   "source": [
    "tdata = TDAModelData()\n",
    "\n",
    "# add diagrams one dimension at a time\n",
    "tdata.add_diagrams(rand_dgms(n=10, min_pairs=3, max_pairs=10), dim=1)\n",
    "tdata.add_diagrams(rand_dgms(n=10, min_pairs=3, max_pairs=10), dim=1)"
   ]
  },
  {
   "cell_type": "code",
   "execution_count": 35,
   "metadata": {},
   "outputs": [
    {
     "ename": "ValueError",
     "evalue": "All data inputs must be iterables of the same size.  Expected 10 feature vectors.",
     "output_type": "error",
     "traceback": [
      "\u001b[1;31m---------------------------------------------------------------------------\u001b[0m",
      "\u001b[1;31mValueError\u001b[0m                                Traceback (most recent call last)",
      "\u001b[1;32m<ipython-input-35-05f97b88386e>\u001b[0m in \u001b[0;36m<module>\u001b[1;34m\u001b[0m\n\u001b[0;32m      9\u001b[0m \u001b[1;33m\u001b[0m\u001b[0m\n\u001b[0;32m     10\u001b[0m \u001b[1;33m\u001b[0m\u001b[0m\n\u001b[1;32m---> 11\u001b[1;33m \u001b[0mtdata\u001b[0m \u001b[1;33m=\u001b[0m \u001b[0mTDAModelData\u001b[0m\u001b[1;33m(\u001b[0m\u001b[0mpers_dgms\u001b[0m\u001b[1;33m=\u001b[0m\u001b[0mpers_dgms\u001b[0m\u001b[1;33m,\u001b[0m \u001b[0mtargets\u001b[0m\u001b[1;33m=\u001b[0m\u001b[0mtargets\u001b[0m\u001b[1;33m,\u001b[0m \u001b[0mfeatures\u001b[0m\u001b[1;33m=\u001b[0m\u001b[0mfeatures\u001b[0m\u001b[1;33m)\u001b[0m\u001b[1;33m\u001b[0m\u001b[1;33m\u001b[0m\u001b[0m\n\u001b[0m",
      "\u001b[1;32mD:\\research\\sd2\\work\\persim\\persim\\topopt\\model_selection.py\u001b[0m in \u001b[0;36m__init__\u001b[1;34m(self, data, targets, features, pers_dgms, dim)\u001b[0m\n\u001b[0;32m     33\u001b[0m \u001b[1;33m\u001b[0m\u001b[0m\n\u001b[0;32m     34\u001b[0m     \u001b[1;32mdef\u001b[0m \u001b[0m__init__\u001b[0m\u001b[1;33m(\u001b[0m\u001b[0mself\u001b[0m\u001b[1;33m,\u001b[0m \u001b[0mpers_dgms\u001b[0m\u001b[1;33m=\u001b[0m\u001b[1;32mNone\u001b[0m\u001b[1;33m,\u001b[0m \u001b[0mtargets\u001b[0m\u001b[1;33m=\u001b[0m\u001b[1;32mNone\u001b[0m\u001b[1;33m,\u001b[0m \u001b[0mfeatures\u001b[0m\u001b[1;33m=\u001b[0m\u001b[1;32mNone\u001b[0m\u001b[1;33m,\u001b[0m \u001b[0mdata\u001b[0m\u001b[1;33m=\u001b[0m\u001b[1;32mNone\u001b[0m\u001b[1;33m,\u001b[0m \u001b[0mdim\u001b[0m\u001b[1;33m=\u001b[0m\u001b[1;32mNone\u001b[0m\u001b[1;33m)\u001b[0m\u001b[1;33m:\u001b[0m\u001b[1;33m\u001b[0m\u001b[1;33m\u001b[0m\u001b[0m\n\u001b[1;32m---> 35\u001b[1;33m         \"\"\" TDAModelData constructor method\n\u001b[0m\u001b[0;32m     36\u001b[0m         \"\"\"\n\u001b[0;32m     37\u001b[0m         \u001b[0mself\u001b[0m\u001b[1;33m.\u001b[0m\u001b[0mdata\u001b[0m \u001b[1;33m=\u001b[0m \u001b[1;32mNone\u001b[0m\u001b[1;33m\u001b[0m\u001b[1;33m\u001b[0m\u001b[0m\n",
      "\u001b[1;32mD:\\research\\sd2\\work\\persim\\persim\\topopt\\model_selection.py\u001b[0m in \u001b[0;36madd_features\u001b[1;34m(self, features)\u001b[0m\n\u001b[0;32m    185\u001b[0m         \u001b[1;32mif\u001b[0m \u001b[0mfeatures\u001b[0m \u001b[1;32mis\u001b[0m \u001b[1;32mnot\u001b[0m \u001b[1;32mNone\u001b[0m\u001b[1;33m:\u001b[0m\u001b[1;33m\u001b[0m\u001b[1;33m\u001b[0m\u001b[0m\n\u001b[0;32m    186\u001b[0m             \u001b[1;32mif\u001b[0m \u001b[1;33m(\u001b[0m\u001b[1;32mnot\u001b[0m \u001b[0misinstance\u001b[0m\u001b[1;33m(\u001b[0m\u001b[0mfeatures\u001b[0m\u001b[1;33m,\u001b[0m \u001b[0mnp\u001b[0m\u001b[1;33m.\u001b[0m\u001b[0mndarray\u001b[0m\u001b[1;33m)\u001b[0m\u001b[1;33m)\u001b[0m \u001b[1;32mor\u001b[0m \u001b[1;33m(\u001b[0m\u001b[0mfeatures\u001b[0m\u001b[1;33m.\u001b[0m\u001b[0mndim\u001b[0m \u001b[1;33m!=\u001b[0m \u001b[1;36m2\u001b[0m\u001b[1;33m)\u001b[0m\u001b[1;33m:\u001b[0m\u001b[1;33m\u001b[0m\u001b[1;33m\u001b[0m\u001b[0m\n\u001b[1;32m--> 187\u001b[1;33m                 \u001b[1;32mraise\u001b[0m \u001b[0mTypeError\u001b[0m\u001b[1;33m(\u001b[0m\u001b[1;34m\"The argument features is expected to be an (N,d) numpy array.\"\u001b[0m\u001b[1;33m)\u001b[0m\u001b[1;33m\u001b[0m\u001b[1;33m\u001b[0m\u001b[0m\n\u001b[0m\u001b[0;32m    188\u001b[0m \u001b[1;33m\u001b[0m\u001b[0m\n\u001b[0;32m    189\u001b[0m         \u001b[1;31m# Verify input has expected size\u001b[0m\u001b[1;33m\u001b[0m\u001b[1;33m\u001b[0m\u001b[1;33m\u001b[0m\u001b[0m\n",
      "\u001b[1;31mValueError\u001b[0m: All data inputs must be iterables of the same size.  Expected 10 feature vectors."
     ]
    }
   ],
   "source": [
    "# generate some persistence diagrams\n",
    "pers_dgms = {0: rand_dgms(n=10, min_pairs=20, max_pairs=50), 1: rand_dgms(n=10, min_pairs=20, max_pairs=50)}\n",
    "\n",
    "# generate a feature dataframe\n",
    "features = rand_features(n=11, num_features=5)\n",
    "\n",
    "# generate some target labels\n",
    "targets = rand_targets(n=10, classification=True)\n",
    "\n",
    "\n",
    "tdata = TDAModelData(pers_dgms=pers_dgms, targets=targets, features=features)"
   ]
  },
  {
   "cell_type": "code",
   "execution_count": 36,
   "metadata": {},
   "outputs": [
    {
     "ename": "ValueError",
     "evalue": "All data inputs must be iterables of the same size.  Expected 11 feature vectors.",
     "output_type": "error",
     "traceback": [
      "\u001b[1;31m---------------------------------------------------------------------------\u001b[0m",
      "\u001b[1;31mValueError\u001b[0m                                Traceback (most recent call last)",
      "\u001b[1;32m<ipython-input-36-4de0de365759>\u001b[0m in \u001b[0;36m<module>\u001b[1;34m\u001b[0m\n\u001b[0;32m      8\u001b[0m \u001b[0mtargets\u001b[0m \u001b[1;33m=\u001b[0m \u001b[0mrand_targets\u001b[0m\u001b[1;33m(\u001b[0m\u001b[0mn\u001b[0m\u001b[1;33m=\u001b[0m\u001b[1;36m11\u001b[0m\u001b[1;33m,\u001b[0m \u001b[0mclassification\u001b[0m\u001b[1;33m=\u001b[0m\u001b[1;32mTrue\u001b[0m\u001b[1;33m)\u001b[0m\u001b[1;33m\u001b[0m\u001b[1;33m\u001b[0m\u001b[0m\n\u001b[0;32m      9\u001b[0m \u001b[1;33m\u001b[0m\u001b[0m\n\u001b[1;32m---> 10\u001b[1;33m \u001b[0mtdata\u001b[0m \u001b[1;33m=\u001b[0m \u001b[0mTDAModelData\u001b[0m\u001b[1;33m(\u001b[0m\u001b[0mpers_dgms\u001b[0m\u001b[1;33m=\u001b[0m\u001b[0mpers_dgms\u001b[0m\u001b[1;33m,\u001b[0m \u001b[0mtargets\u001b[0m\u001b[1;33m=\u001b[0m\u001b[0mtargets\u001b[0m\u001b[1;33m,\u001b[0m \u001b[0mfeatures\u001b[0m\u001b[1;33m=\u001b[0m\u001b[0mfeatures\u001b[0m\u001b[1;33m)\u001b[0m\u001b[1;33m\u001b[0m\u001b[1;33m\u001b[0m\u001b[0m\n\u001b[0m",
      "\u001b[1;32mD:\\research\\sd2\\work\\persim\\persim\\topopt\\model_selection.py\u001b[0m in \u001b[0;36m__init__\u001b[1;34m(self, data, targets, features, pers_dgms, dim)\u001b[0m\n\u001b[0;32m     33\u001b[0m \u001b[1;33m\u001b[0m\u001b[0m\n\u001b[0;32m     34\u001b[0m     \u001b[1;32mdef\u001b[0m \u001b[0m__init__\u001b[0m\u001b[1;33m(\u001b[0m\u001b[0mself\u001b[0m\u001b[1;33m,\u001b[0m \u001b[0mpers_dgms\u001b[0m\u001b[1;33m=\u001b[0m\u001b[1;32mNone\u001b[0m\u001b[1;33m,\u001b[0m \u001b[0mtargets\u001b[0m\u001b[1;33m=\u001b[0m\u001b[1;32mNone\u001b[0m\u001b[1;33m,\u001b[0m \u001b[0mfeatures\u001b[0m\u001b[1;33m=\u001b[0m\u001b[1;32mNone\u001b[0m\u001b[1;33m,\u001b[0m \u001b[0mdata\u001b[0m\u001b[1;33m=\u001b[0m\u001b[1;32mNone\u001b[0m\u001b[1;33m,\u001b[0m \u001b[0mdim\u001b[0m\u001b[1;33m=\u001b[0m\u001b[1;32mNone\u001b[0m\u001b[1;33m)\u001b[0m\u001b[1;33m:\u001b[0m\u001b[1;33m\u001b[0m\u001b[1;33m\u001b[0m\u001b[0m\n\u001b[1;32m---> 35\u001b[1;33m         \"\"\" TDAModelData constructor method\n\u001b[0m\u001b[0;32m     36\u001b[0m         \"\"\"\n\u001b[0;32m     37\u001b[0m         \u001b[0mself\u001b[0m\u001b[1;33m.\u001b[0m\u001b[0mdata\u001b[0m \u001b[1;33m=\u001b[0m \u001b[1;32mNone\u001b[0m\u001b[1;33m\u001b[0m\u001b[1;33m\u001b[0m\u001b[0m\n",
      "\u001b[1;32mD:\\research\\sd2\\work\\persim\\persim\\topopt\\model_selection.py\u001b[0m in \u001b[0;36madd_features\u001b[1;34m(self, features)\u001b[0m\n\u001b[0;32m    185\u001b[0m         \u001b[1;32mif\u001b[0m \u001b[0mfeatures\u001b[0m \u001b[1;32mis\u001b[0m \u001b[1;32mnot\u001b[0m \u001b[1;32mNone\u001b[0m\u001b[1;33m:\u001b[0m\u001b[1;33m\u001b[0m\u001b[1;33m\u001b[0m\u001b[0m\n\u001b[0;32m    186\u001b[0m             \u001b[1;32mif\u001b[0m \u001b[1;33m(\u001b[0m\u001b[1;32mnot\u001b[0m \u001b[0misinstance\u001b[0m\u001b[1;33m(\u001b[0m\u001b[0mfeatures\u001b[0m\u001b[1;33m,\u001b[0m \u001b[0mnp\u001b[0m\u001b[1;33m.\u001b[0m\u001b[0mndarray\u001b[0m\u001b[1;33m)\u001b[0m\u001b[1;33m)\u001b[0m \u001b[1;32mor\u001b[0m \u001b[1;33m(\u001b[0m\u001b[0mfeatures\u001b[0m\u001b[1;33m.\u001b[0m\u001b[0mndim\u001b[0m \u001b[1;33m!=\u001b[0m \u001b[1;36m2\u001b[0m\u001b[1;33m)\u001b[0m\u001b[1;33m:\u001b[0m\u001b[1;33m\u001b[0m\u001b[1;33m\u001b[0m\u001b[0m\n\u001b[1;32m--> 187\u001b[1;33m                 \u001b[1;32mraise\u001b[0m \u001b[0mTypeError\u001b[0m\u001b[1;33m(\u001b[0m\u001b[1;34m\"The argument features is expected to be an (N,d) numpy array.\"\u001b[0m\u001b[1;33m)\u001b[0m\u001b[1;33m\u001b[0m\u001b[1;33m\u001b[0m\u001b[0m\n\u001b[0m\u001b[0;32m    188\u001b[0m \u001b[1;33m\u001b[0m\u001b[0m\n\u001b[0;32m    189\u001b[0m         \u001b[1;31m# Verify input has expected size\u001b[0m\u001b[1;33m\u001b[0m\u001b[1;33m\u001b[0m\u001b[1;33m\u001b[0m\u001b[0m\n",
      "\u001b[1;31mValueError\u001b[0m: All data inputs must be iterables of the same size.  Expected 11 feature vectors."
     ]
    }
   ],
   "source": [
    "# generate some persistence diagrams\n",
    "pers_dgms = {0: rand_dgms(n=10, min_pairs=20, max_pairs=50), 1: rand_dgms(n=10, min_pairs=20, max_pairs=50)}\n",
    "\n",
    "# generate a feature dataframe\n",
    "features = rand_features(n=10, num_features=5)\n",
    "\n",
    "# generate some target labels\n",
    "targets = rand_targets(n=11, classification=True)\n",
    "\n",
    "tdata = TDAModelData(pers_dgms=pers_dgms, targets=targets, features=features)"
   ]
  },
  {
   "cell_type": "code",
   "execution_count": 38,
   "metadata": {},
   "outputs": [
    {
     "ename": "ValueError",
     "evalue": "Persistence diagrams are expected to be in birth-death coordinates.",
     "output_type": "error",
     "traceback": [
      "\u001b[1;31m---------------------------------------------------------------------------\u001b[0m",
      "\u001b[1;31mValueError\u001b[0m                                Traceback (most recent call last)",
      "\u001b[1;32m<ipython-input-38-14c19f71423a>\u001b[0m in \u001b[0;36m<module>\u001b[1;34m\u001b[0m\n\u001b[0;32m      5\u001b[0m     \u001b[0mpers_dgm\u001b[0m\u001b[1;33m[\u001b[0m\u001b[1;33m:\u001b[0m\u001b[1;33m,\u001b[0m\u001b[1;36m1\u001b[0m\u001b[1;33m]\u001b[0m \u001b[1;33m=\u001b[0m \u001b[0mpers_dgm\u001b[0m\u001b[1;33m[\u001b[0m\u001b[1;33m:\u001b[0m\u001b[1;33m,\u001b[0m\u001b[1;36m1\u001b[0m\u001b[1;33m]\u001b[0m\u001b[1;33m-\u001b[0m\u001b[0mpers_dgm\u001b[0m\u001b[1;33m[\u001b[0m\u001b[1;33m:\u001b[0m\u001b[1;33m,\u001b[0m\u001b[1;36m0\u001b[0m\u001b[1;33m]\u001b[0m\u001b[1;33m\u001b[0m\u001b[1;33m\u001b[0m\u001b[0m\n\u001b[0;32m      6\u001b[0m \u001b[1;33m\u001b[0m\u001b[0m\n\u001b[1;32m----> 7\u001b[1;33m \u001b[0mtdata\u001b[0m \u001b[1;33m=\u001b[0m \u001b[0mTDAModelData\u001b[0m\u001b[1;33m(\u001b[0m\u001b[0mpers_dgms\u001b[0m\u001b[1;33m=\u001b[0m\u001b[0mpers_dgms\u001b[0m\u001b[1;33m,\u001b[0m \u001b[0mdim\u001b[0m\u001b[1;33m=\u001b[0m\u001b[1;36m1\u001b[0m\u001b[1;33m)\u001b[0m\u001b[1;33m\u001b[0m\u001b[1;33m\u001b[0m\u001b[0m\n\u001b[0m",
      "\u001b[1;32mD:\\research\\sd2\\work\\persim\\persim\\topopt\\model_selection.py\u001b[0m in \u001b[0;36m__init__\u001b[1;34m(self, data, targets, features, pers_dgms, dim)\u001b[0m\n\u001b[0;32m     34\u001b[0m     \u001b[1;32mdef\u001b[0m \u001b[0m__init__\u001b[0m\u001b[1;33m(\u001b[0m\u001b[0mself\u001b[0m\u001b[1;33m,\u001b[0m \u001b[0mpers_dgms\u001b[0m\u001b[1;33m=\u001b[0m\u001b[1;32mNone\u001b[0m\u001b[1;33m,\u001b[0m \u001b[0mtargets\u001b[0m\u001b[1;33m=\u001b[0m\u001b[1;32mNone\u001b[0m\u001b[1;33m,\u001b[0m \u001b[0mfeatures\u001b[0m\u001b[1;33m=\u001b[0m\u001b[1;32mNone\u001b[0m\u001b[1;33m,\u001b[0m \u001b[0mdata\u001b[0m\u001b[1;33m=\u001b[0m\u001b[1;32mNone\u001b[0m\u001b[1;33m,\u001b[0m \u001b[0mdim\u001b[0m\u001b[1;33m=\u001b[0m\u001b[1;32mNone\u001b[0m\u001b[1;33m)\u001b[0m\u001b[1;33m:\u001b[0m\u001b[1;33m\u001b[0m\u001b[1;33m\u001b[0m\u001b[0m\n\u001b[0;32m     35\u001b[0m         \"\"\" TDAModelData constructor method\n\u001b[1;32m---> 36\u001b[1;33m         \"\"\"\n\u001b[0m\u001b[0;32m     37\u001b[0m         \u001b[0mself\u001b[0m\u001b[1;33m.\u001b[0m\u001b[0mdata\u001b[0m \u001b[1;33m=\u001b[0m \u001b[1;32mNone\u001b[0m\u001b[1;33m\u001b[0m\u001b[1;33m\u001b[0m\u001b[0m\n\u001b[0;32m     38\u001b[0m         \u001b[0mself\u001b[0m\u001b[1;33m.\u001b[0m\u001b[0mtargets\u001b[0m \u001b[1;33m=\u001b[0m \u001b[1;32mNone\u001b[0m\u001b[1;33m\u001b[0m\u001b[1;33m\u001b[0m\u001b[0m\n",
      "\u001b[1;32mD:\\research\\sd2\\work\\persim\\persim\\topopt\\model_selection.py\u001b[0m in \u001b[0;36madd_diagrams\u001b[1;34m(self, pers_dgms, dim)\u001b[0m\n\u001b[0;32m    159\u001b[0m                     \u001b[1;32mif\u001b[0m \u001b[0mlen\u001b[0m\u001b[1;33m(\u001b[0m\u001b[0mpers_dgms\u001b[0m\u001b[1;33m)\u001b[0m \u001b[1;33m!=\u001b[0m \u001b[0mlen\u001b[0m\u001b[1;33m(\u001b[0m\u001b[0mself\u001b[0m\u001b[1;33m.\u001b[0m\u001b[0mfeatures\u001b[0m\u001b[1;33m)\u001b[0m\u001b[1;33m:\u001b[0m\u001b[1;33m\u001b[0m\u001b[1;33m\u001b[0m\u001b[0m\n\u001b[0;32m    160\u001b[0m                         raise ValueError(\n\u001b[1;32m--> 161\u001b[1;33m                             \"All data inputs must be iterables of the same size.  Expected %d diagrams.\" % len(self.features))\n\u001b[0m\u001b[0;32m    162\u001b[0m \u001b[1;33m\u001b[0m\u001b[0m\n\u001b[0;32m    163\u001b[0m             \u001b[1;31m# Verify type and format of diagrams\u001b[0m\u001b[1;33m\u001b[0m\u001b[1;33m\u001b[0m\u001b[1;33m\u001b[0m\u001b[0m\n",
      "\u001b[1;31mValueError\u001b[0m: Persistence diagrams are expected to be in birth-death coordinates."
     ]
    }
   ],
   "source": [
    "pers_dgms = rand_dgms(n=10, min_pairs=2, max_pairs=10)\n",
    "\n",
    "# transform diagrams into birth-persistence coordinates\n",
    "for pers_dgm in pers_dgms:\n",
    "    pers_dgm[:,1] = pers_dgm[:,1]-pers_dgm[:,0]\n",
    "\n",
    "tdata = TDAModelData(pers_dgms=pers_dgms, dim=1)"
   ]
  },
  {
   "cell_type": "code",
   "execution_count": null,
   "metadata": {},
   "outputs": [],
   "source": []
  }
 ],
 "metadata": {
  "kernelspec": {
   "display_name": "persimenv",
   "language": "python",
   "name": "persimenv"
  },
  "language_info": {
   "codemirror_mode": {
    "name": "ipython",
    "version": 3
   },
   "file_extension": ".py",
   "mimetype": "text/x-python",
   "name": "python",
   "nbconvert_exporter": "python",
   "pygments_lexer": "ipython3",
   "version": "3.7.9"
  }
 },
 "nbformat": 4,
 "nbformat_minor": 4
}
