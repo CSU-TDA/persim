{
 "cells": [
  {
   "cell_type": "markdown",
   "metadata": {},
   "source": [
    "## Constructing a topological model hyperparameter space"
   ]
  },
  {
   "cell_type": "code",
   "execution_count": 1,
   "metadata": {},
   "outputs": [],
   "source": [
    "from model_selection import TDAModelParameterSpace\n",
    "\n",
    "from sklearn.ensemble import RandomForestClassifier\n",
    "from sklearn.svm import SVC\n",
    "\n",
    "from persim.images import PersistenceImager\n",
    "from hyperopt import hp\n",
    "\n",
    "import numpy as np\n",
    "from pprint import pprint"
   ]
  },
  {
   "cell_type": "markdown",
   "metadata": {},
   "source": [
    "#### Initialize an empty TDA model hyperparameter space"
   ]
  },
  {
   "cell_type": "code",
   "execution_count": 37,
   "metadata": {},
   "outputs": [
    {
     "name": "stdout",
     "output_type": "stream",
     "text": [
      "{'estimator_space': {}, 'transformer_space': {}}\n"
     ]
    }
   ],
   "source": [
    "mps = TDAModelParameterSpace()\n",
    "pprint(mps.space)"
   ]
  },
  {
   "cell_type": "markdown",
   "metadata": {},
   "source": [
    "#### Initialize a TDA model parameter space with one diagram transformer and two estimators (classifiers)\n",
    "Transformers must be a dictionary keyed by homological dimension and values equal to one or more persistence diagram transformer interfaces."
   ]
  },
  {
   "cell_type": "code",
   "execution_count": 38,
   "metadata": {},
   "outputs": [
    {
     "name": "stdout",
     "output_type": "stream",
     "text": [
      "{'estimator_space': {'RandomForestClassifier_1': {'method': <class 'sklearn.ensemble._forest.RandomForestClassifier'>,\n",
      "                                                  'params': {}},\n",
      "                     'SVC_1': {'method': <class 'sklearn.svm._classes.SVC'>,\n",
      "                               'params': {}}},\n",
      " 'transformer_space': {0: {'PersistenceImager_0_1': {'method': <class 'persim.images.PersistenceImager'>,\n",
      "                                                     'params': {}}}}}\n"
     ]
    }
   ],
   "source": [
    "mps = TDAModelParameterSpace(transformers={0: PersistenceImager}, estimators=[RandomForestClassifier, SVC])\n",
    "pprint(mps.space)"
   ]
  },
  {
   "cell_type": "markdown",
   "metadata": {},
   "source": [
    "#### Setting default_params=True will load the default transformer and estimator parameters into the parameter space"
   ]
  },
  {
   "cell_type": "code",
   "execution_count": 39,
   "metadata": {},
   "outputs": [
    {
     "name": "stdout",
     "output_type": "stream",
     "text": [
      "{'estimator_space': {'RandomForestClassifier_1': {'method': <class 'sklearn.ensemble._forest.RandomForestClassifier'>,\n",
      "                                                  'params': {'bootstrap': True,\n",
      "                                                             'ccp_alpha': 0.0,\n",
      "                                                             'class_weight': None,\n",
      "                                                             'criterion': 'gini',\n",
      "                                                             'max_depth': None,\n",
      "                                                             'max_features': 'auto',\n",
      "                                                             'max_leaf_nodes': None,\n",
      "                                                             'max_samples': None,\n",
      "                                                             'min_impurity_decrease': 0.0,\n",
      "                                                             'min_impurity_split': None,\n",
      "                                                             'min_samples_leaf': 1,\n",
      "                                                             'min_samples_split': 2,\n",
      "                                                             'min_weight_fraction_leaf': 0.0,\n",
      "                                                             'n_estimators': 100,\n",
      "                                                             'n_jobs': None,\n",
      "                                                             'oob_score': False,\n",
      "                                                             'random_state': None,\n",
      "                                                             'verbose': 0,\n",
      "                                                             'warm_start': False}},\n",
      "                     'SVC_1': {'method': <class 'sklearn.svm._classes.SVC'>,\n",
      "                               'params': {'C': 1.0,\n",
      "                                          'break_ties': False,\n",
      "                                          'cache_size': 200,\n",
      "                                          'class_weight': None,\n",
      "                                          'coef0': 0.0,\n",
      "                                          'decision_function_shape': 'ovr',\n",
      "                                          'degree': 3,\n",
      "                                          'gamma': 'scale',\n",
      "                                          'kernel': 'rbf',\n",
      "                                          'max_iter': -1,\n",
      "                                          'probability': False,\n",
      "                                          'random_state': None,\n",
      "                                          'shrinking': True,\n",
      "                                          'tol': 0.001,\n",
      "                                          'verbose': False}}},\n",
      " 'transformer_space': {0: {'PersistenceImager_0_1': {'method': <class 'persim.images.PersistenceImager'>,\n",
      "                                                     'params': {'birth_range': (0.0,\n",
      "                                                                                1.0),\n",
      "                                                                'kernel': <function gaussian at 0x000001FA0027B9D8>,\n",
      "                                                                'kernel_params': {'sigma': [[1.0,\n",
      "                                                                                             0.0],\n",
      "                                                                                            [0.0,\n",
      "                                                                                             1.0]]},\n",
      "                                                                'pers_range': (0.0,\n",
      "                                                                               1.0),\n",
      "                                                                'pixel_size': 0.2,\n",
      "                                                                'weight': <function persistence at 0x000001FA0027BE58>,\n",
      "                                                                'weight_params': {'n': 1.0}}}}}}\n"
     ]
    }
   ],
   "source": [
    "mps = TDAModelParameterSpace(transformers={0: PersistenceImager}, estimators=[RandomForestClassifier, SVC], default_params=True)\n",
    "pprint(mps.space)"
   ]
  },
  {
   "cell_type": "markdown",
   "metadata": {},
   "source": [
    "#### Transformers and estimators may be added after instantiation, with or without default parameters"
   ]
  },
  {
   "cell_type": "code",
   "execution_count": 40,
   "metadata": {},
   "outputs": [
    {
     "name": "stdout",
     "output_type": "stream",
     "text": [
      "{'estimator_space': {'RandomForestClassifier_1': {'method': <class 'sklearn.ensemble._forest.RandomForestClassifier'>,\n",
      "                                                  'params': {'bootstrap': True,\n",
      "                                                             'ccp_alpha': 0.0,\n",
      "                                                             'class_weight': None,\n",
      "                                                             'criterion': 'gini',\n",
      "                                                             'max_depth': None,\n",
      "                                                             'max_features': 'auto',\n",
      "                                                             'max_leaf_nodes': None,\n",
      "                                                             'max_samples': None,\n",
      "                                                             'min_impurity_decrease': 0.0,\n",
      "                                                             'min_impurity_split': None,\n",
      "                                                             'min_samples_leaf': 1,\n",
      "                                                             'min_samples_split': 2,\n",
      "                                                             'min_weight_fraction_leaf': 0.0,\n",
      "                                                             'n_estimators': 100,\n",
      "                                                             'n_jobs': None,\n",
      "                                                             'oob_score': False,\n",
      "                                                             'random_state': None,\n",
      "                                                             'verbose': 0,\n",
      "                                                             'warm_start': False}},\n",
      "                     'SVC_1': {'method': <class 'sklearn.svm._classes.SVC'>,\n",
      "                               'params': {}}},\n",
      " 'transformer_space': {0: {'PersistenceImager_0_1': {'method': <class 'persim.images.PersistenceImager'>,\n",
      "                                                     'params': {}},\n",
      "                           'PersistenceImager_0_2': {'method': <class 'persim.images.PersistenceImager'>,\n",
      "                                                     'params': {}}},\n",
      "                       1: {'PersistenceImager_1_1': {'method': <class 'persim.images.PersistenceImager'>,\n",
      "                                                     'params': {}}}}}\n"
     ]
    }
   ],
   "source": [
    "mps = TDAModelParameterSpace()\n",
    "mps.add_transformers({0: PersistenceImager})\n",
    "mps.add_transformers({0: PersistenceImager})\n",
    "mps.add_transformers({1: PersistenceImager})\n",
    "mps.add_estimators(SVC)\n",
    "mps.add_estimators(RandomForestClassifier, default_params=True)\n",
    "pprint(mps.space)"
   ]
  },
  {
   "cell_type": "markdown",
   "metadata": {},
   "source": [
    "#### More than one of the same type of transformer or estimator may be added in a given dimension. They are assigned unique labels."
   ]
  },
  {
   "cell_type": "code",
   "execution_count": 41,
   "metadata": {},
   "outputs": [
    {
     "name": "stdout",
     "output_type": "stream",
     "text": [
      "{'estimator_space': {},\n",
      " 'transformer_space': {0: {'PersistenceImager_0_1': {'method': <class 'persim.images.PersistenceImager'>,\n",
      "                                                     'params': {}},\n",
      "                           'PersistenceImager_0_2': {'method': <class 'persim.images.PersistenceImager'>,\n",
      "                                                     'params': {}}}}}\n"
     ]
    }
   ],
   "source": [
    "mps = TDAModelParameterSpace(transformers={0: [PersistenceImager, PersistenceImager]})\n",
    "pprint(mps.space)"
   ]
  },
  {
   "cell_type": "markdown",
   "metadata": {},
   "source": [
    "#### Estimators and transformers can be easily removed in multiple ways"
   ]
  },
  {
   "cell_type": "code",
   "execution_count": 49,
   "metadata": {},
   "outputs": [
    {
     "name": "stdout",
     "output_type": "stream",
     "text": [
      "{'estimator_space': {}, 'transformer_space': {}}\n",
      "\n",
      "\n",
      "{'estimator_space': {'SVC_2': {'method': <class 'sklearn.svm._classes.SVC'>,\n",
      "                               'params': {}}},\n",
      " 'transformer_space': {}}\n"
     ]
    }
   ],
   "source": [
    "mps = TDAModelParameterSpace(estimators=[SVC, SVC])\n",
    "mps.remove_estimators(SVC)  # either all of one type\n",
    "pprint(mps.space)\n",
    "print('\\n')\n",
    "\n",
    "mps = TDAModelParameterSpace(estimators=[SVC, SVC])\n",
    "mps.remove_estimators('SVC_1')  # or by unqiue label\n",
    "pprint(mps.space)"
   ]
  },
  {
   "cell_type": "code",
   "execution_count": 50,
   "metadata": {},
   "outputs": [
    {
     "name": "stdout",
     "output_type": "stream",
     "text": [
      "{'estimator_space': {}, 'transformer_space': {}}\n",
      "\n",
      "\n",
      "{'estimator_space': {},\n",
      " 'transformer_space': {1: {'PersistenceImager_1_1': {'method': <class 'persim.images.PersistenceImager'>,\n",
      "                                                     'params': {}}}}}\n",
      "\n",
      "\n",
      "{'estimator_space': {},\n",
      " 'transformer_space': {0: {'PersistenceImager_0_2': {'method': <class 'persim.images.PersistenceImager'>,\n",
      "                                                     'params': {}}},\n",
      "                       1: {'PersistenceImager_1_1': {'method': <class 'persim.images.PersistenceImager'>,\n",
      "                                                     'params': {}}}}}\n",
      "\n",
      "\n",
      "{'estimator_space': {},\n",
      " 'transformer_space': {0: {'PersistenceImager_0_2': {'method': <class 'persim.images.PersistenceImager'>,\n",
      "                                                     'params': {}}}}}\n"
     ]
    }
   ],
   "source": [
    "mps = TDAModelParameterSpace(transformers={0: [PersistenceImager, PersistenceImager], 1: PersistenceImager})\n",
    "mps.remove_transformers(PersistenceImager)  # remove all of one type\n",
    "pprint(mps.space)\n",
    "print('\\n')\n",
    "\n",
    "mps = TDAModelParameterSpace(transformers={0: [PersistenceImager, PersistenceImager], 1: PersistenceImager})\n",
    "mps.remove_transformers(0)  # or by dimension\n",
    "pprint(mps.space)\n",
    "print('\\n')\n",
    "\n",
    "mps = TDAModelParameterSpace(transformers={0: [PersistenceImager, PersistenceImager], 1: PersistenceImager})\n",
    "mps.remove_transformers('PersistenceImager_0_1')  # or by unique label\n",
    "pprint(mps.space)\n",
    "print('\\n')\n",
    "\n",
    "mps = TDAModelParameterSpace(transformers={0: [PersistenceImager, PersistenceImager], 1: PersistenceImager})\n",
    "mps.remove_transformers([1,'PersistenceImager_0_1'])  # or a combination\n",
    "pprint(mps.space)"
   ]
  },
  {
   "cell_type": "markdown",
   "metadata": {},
   "source": [
    "#### Transformers and estimator parameters may be added and updated after instantiation"
   ]
  },
  {
   "cell_type": "code",
   "execution_count": 3,
   "metadata": {},
   "outputs": [
    {
     "name": "stdout",
     "output_type": "stream",
     "text": [
      "{'estimator_space': {'SVC_1': {'method': <class 'sklearn.svm._classes.SVC'>,\n",
      "                               'params': {'n_estimators': 500}},\n",
      "                     'SVC_2': {'method': <class 'sklearn.svm._classes.SVC'>,\n",
      "                               'params': {'n_estimators': 500}}},\n",
      " 'transformer_space': {0: {'PersistenceImager_0_1': {'method': <class 'persim.images.PersistenceImager'>,\n",
      "                                                     'params': {'weight_params': {'n': 2}}}}}}\n"
     ]
    }
   ],
   "source": [
    "mps = TDAModelParameterSpace(transformers={0: PersistenceImager}, estimators=[SVC, SVC])\n",
    "\n",
    "mps.add_transformer_params('PersistenceImager_0_1', {'weight_params': {'n': 2}})\n",
    "\n",
    "# if an estimator interface is provided, all instances of that interface will be updated\n",
    "mps.add_estimator_params(SVC, {'n_estimators': 500})  \n",
    "pprint(mps.space)"
   ]
  },
  {
   "cell_type": "markdown",
   "metadata": {},
   "source": [
    "#### Transformers and estimator parameters may also be random variables of the types supported by hyperopt:\n",
    "* 'choice' - discrete choices of (possibly) categorical values\n",
    "* 'randint' - uniform distribution on a bounded range of non-negative integers \n",
    "* 'uniform' - uniform distribution on a bounded range\n",
    "* 'quniform' - quantized uniform distribution on a bounded range\n",
    "* 'loguniform' - log-uniform distribution on a bounded range\n",
    "* 'qloguniform' - quantized log-uniform distribution on a bounded range\n",
    "* 'normal' - normal distribution\n",
    "* 'qnormal' - quantized normal distribution\n",
    "* 'lognormal' - log-normal distribution\n",
    "* 'qlognormal' - quantized log-normal distribution\n",
    "\n",
    "\n",
    "#### TDAModelParameterSpace().space() encodes human readable dictionary representations of these stochastic expressions, which can be generated by the correspodning static methods, e.g. TDAModelParameterSpace().uniform(param, low, high)"
   ]
  },
  {
   "cell_type": "code",
   "execution_count": 27,
   "metadata": {},
   "outputs": [
    {
     "name": "stdout",
     "output_type": "stream",
     "text": [
      "{'estimator_space': {},\n",
      " 'transformer_space': {0: {'PersistenceImager_0_1': {'method': <class 'persim.images.PersistenceImager'>,\n",
      "                                                     'params': {'weight': <function linear_ramp at 0x0000020BA192EE58>,\n",
      "                                                                'weight_params': {'end': {'choice_se': {'options': [1,\n",
      "                                                                                                                    3,\n",
      "                                                                                                                    5]}},\n",
      "                                                                                  'high': <hyperopt.pyll.base.Apply object at 0x0000020BA2664788>,\n",
      "                                                                                  'low': 0.0,\n",
      "                                                                                  'start': 0.0}}}},\n",
      "                       1: {'PersistenceImager_1_1': {'method': <class 'persim.images.PersistenceImager'>,\n",
      "                                                     'params': {'weight': <function linear_ramp at 0x0000020BA192EE58>,\n",
      "                                                                'weight_params': {'end': {'choice_se': {'options': [1,\n",
      "                                                                                                                    3,\n",
      "                                                                                                                    5]}},\n",
      "                                                                                  'high': <hyperopt.pyll.base.Apply object at 0x0000020BA2664788>,\n",
      "                                                                                  'low': 0.0,\n",
      "                                                                                  'start': 0.0}}}}}}\n",
      "{'estimator_space': {},\n",
      " 'transformer_space': {0: {'method': <class 'persim.images.PersistenceImager'>,\n",
      "                           'params': {'weight': <function linear_ramp at 0x0000020BA192EE58>,\n",
      "                                      'weight_params': {'end': <hyperopt.pyll.base.Apply object at 0x0000020BA2654708>,\n",
      "                                                        'high': <hyperopt.pyll.base.Apply object at 0x0000020BA2664588>,\n",
      "                                                        'low': 0.0,\n",
      "                                                        'start': 0.0}}},\n",
      "                       1: {'method': <class 'persim.images.PersistenceImager'>,\n",
      "                           'params': {'weight': <function linear_ramp at 0x0000020BA192EE58>,\n",
      "                                      'weight_params': {'end': <hyperopt.pyll.base.Apply object at 0x0000020BA2654708>,\n",
      "                                                        'high': <hyperopt.pyll.base.Apply object at 0x0000020BA2664588>,\n",
      "                                                        'low': 0.0,\n",
      "                                                        'start': 0.0}}}}}\n"
     ]
    }
   ],
   "source": [
    "from persim.images_weights import linear_ramp\n",
    "mps = TDAModelParameterSpace()\n",
    "mps.add_transformers({0: PersistenceImager, 1: PersistenceImager})\n",
    "mps.add_transformer_params(PersistenceImager, {'weight': linear_ramp})\n",
    "mps.add_transformer_params(PersistenceImager, {'weight_params': {'low': 0.0, \n",
    "                                                                 'high': mps.uniform(1, 3), \n",
    "                                                                 'start': 0.0,\n",
    "                                                                 'end': mps.choice([1, 3, 5])}})\n",
    "\n",
    "pprint(mps.space)"
   ]
  },
  {
   "cell_type": "markdown",
   "metadata": {},
   "source": [
    "#### A valid hyperopt parameter space is automatically constructed, from which samples can be drawn"
   ]
  },
  {
   "cell_type": "code",
   "execution_count": 55,
   "metadata": {},
   "outputs": [
    {
     "name": "stdout",
     "output_type": "stream",
     "text": [
      "{'estimator_space': {},\n",
      " 'transformer_space': {0: {'method': <class 'persim.images.PersistenceImager'>,\n",
      "                           'params': {'weight': <function linear_ramp at 0x000001FA0027BDC8>,\n",
      "                                      'weight_params': {'end': <hyperopt.pyll.base.Apply object at 0x000001FA03AE5E88>,\n",
      "                                                        'high': <hyperopt.pyll.base.Apply object at 0x000001FA03A7CAC8>,\n",
      "                                                        'low': 0.0,\n",
      "                                                        'start': 0.0}}},\n",
      "                       1: {'method': <class 'persim.images.PersistenceImager'>,\n",
      "                           'params': {'weight': <function linear_ramp at 0x000001FA0027BDC8>,\n",
      "                                      'weight_params': {'end': <hyperopt.pyll.base.Apply object at 0x000001FA03AE5E88>,\n",
      "                                                        'high': <hyperopt.pyll.base.Apply object at 0x000001FA03A7CAC8>,\n",
      "                                                        'low': 0.0,\n",
      "                                                        'start': 0.0}}}}}\n",
      "\n",
      "\n",
      "{'estimator_space': {},\n",
      " 'transformer_space': {0: {'method': <class 'persim.images.PersistenceImager'>,\n",
      "                           'params': {'weight': <function linear_ramp at 0x000001FA0027BDC8>,\n",
      "                                      'weight_params': {'end': 1,\n",
      "                                                        'high': 1.2722141428413,\n",
      "                                                        'low': 0.0,\n",
      "                                                        'start': 0.0}}},\n",
      "                       1: {'method': <class 'persim.images.PersistenceImager'>,\n",
      "                           'params': {'weight': <function linear_ramp at 0x000001FA0027BDC8>,\n",
      "                                      'weight_params': {'end': 1,\n",
      "                                                        'high': 1.2722141428413,\n",
      "                                                        'low': 0.0,\n",
      "                                                        'start': 0.0}}}}}\n"
     ]
    }
   ],
   "source": [
    "pprint(mps.hp_space)\n",
    "print('\\n')\n",
    "pprint(mps.sample())"
   ]
  },
  {
   "cell_type": "markdown",
   "metadata": {},
   "source": [
    "#### The hyperparameter space may be arbitrarily complex, with nested conditional choices. This enables rapid construction of complex hyperparameter spaces involving conditional subspaces.\n",
    "\n",
    "Here we add two different transformers, both which convert diagrams to persistence images, but one which uses a linear ramp weight function, and the other which weighs persistence pairs by a power of their persistence. Sampling the space returns one of these two choices, togehter with an appropriate choice of parameters."
   ]
  },
  {
   "cell_type": "code",
   "execution_count": 42,
   "metadata": {},
   "outputs": [
    {
     "name": "stdout",
     "output_type": "stream",
     "text": [
      "{'estimator_space': {},\n",
      " 'transformer_space': {0: {'method': <class 'persim.images.PersistenceImager'>,\n",
      "                           'params': {'weight': <function linear_ramp at 0x0000020BA192EE58>,\n",
      "                                      'weight_params': {'end': 19,\n",
      "                                                        'high': 38.606027669619166,\n",
      "                                                        'low': 0.0,\n",
      "                                                        'start': 0.0}}}}}\n"
     ]
    }
   ],
   "source": [
    "from persim.images_weights import linear_ramp\n",
    "from persim.images_weights import persistence\n",
    "\n",
    "mps = TDAModelParameterSpace()\n",
    "mps.add_transformers(transformers={0: [PersistenceImager, PersistenceImager]})\n",
    "mps.add_transformer_params('PersistenceImager_0_1', {'weight': persistence,\n",
    "                                                   'weight_params': {'n': mps.choice([3, mps.choice([mps.uniform(1, 2), 19]), 5])}})\n",
    "\n",
    "mps.add_transformer_params('PersistenceImager_0_2', {'weight': linear_ramp,\n",
    "                                                   'weight_params': {'low': 0.0, \n",
    "                                                                     'high': mps.uniform(20, 50), \n",
    "                                                                     'start': 0.0,\n",
    "                                                                     'end': mps.choice([10, mps.choice([mps.uniform(1, 2), 19])])}})\n",
    "pprint(mps.space)\n",
    "print('\\n')\n",
    "pprint(mps.sample())"
   ]
  },
  {
   "cell_type": "code",
   "execution_count": null,
   "metadata": {},
   "outputs": [],
   "source": []
  }
 ],
 "metadata": {
  "kernelspec": {
   "display_name": "persimenv",
   "language": "python",
   "name": "persimenv"
  },
  "language_info": {
   "codemirror_mode": {
    "name": "ipython",
    "version": 3
   },
   "file_extension": ".py",
   "mimetype": "text/x-python",
   "name": "python",
   "nbconvert_exporter": "python",
   "pygments_lexer": "ipython3",
   "version": "3.7.9"
  }
 },
 "nbformat": 4,
 "nbformat_minor": 4
}
