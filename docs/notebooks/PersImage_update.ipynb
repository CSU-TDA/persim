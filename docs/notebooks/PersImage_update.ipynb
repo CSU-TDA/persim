{
 "cells": [
  {
   "cell_type": "markdown",
   "metadata": {},
   "source": [
    "# Audit the new version of the persistence image class to ensure functionality in the scikit-TDA API, agreement with the previous version, and compare the speeds of the two implementations\n",
    "\n",
    "## Additional native functionality:\n",
    "* Images are no longer restricted to square regions of the persistence plane\n",
    "* Non-isotrapic Gaussians are now supported\n",
    "* One-parameter, nonlinear power functions now supported as weight functions\n",
    "\n",
    "## Code updates:\n",
    "* Summed-area table calculation of image"
   ]
  },
  {
   "cell_type": "code",
   "execution_count": 1,
   "metadata": {},
   "outputs": [],
   "source": [
    "import numpy as np\n",
    "import timeit\n",
    "import matplotlib.pyplot as plt\n",
    "from persim import PersImage\n",
    "from persim import PersistenceImager"
   ]
  },
  {
   "cell_type": "code",
   "execution_count": 2,
   "metadata": {},
   "outputs": [],
   "source": [
    "def random_pd(num_pairs=1000, birth_range=(0.0, 1.0), persistence_range=(0.0, 1.0), seed=None):\n",
    "    \"\"\"\n",
    "    Generate a random persistence diagram over a specified range of the birth-death or birth-persistence plane\n",
    "    \"\"\"\n",
    "    np.random.seed(seed)\n",
    "    \n",
    "    birth = np.random.uniform(low=birth_range[0], high=birth_range[1], size=(num_pairs,))\n",
    "    persistence_range = np.random.uniform(low=persistence_range[0], high=persistence_range[1], size=(num_pairs,))\n",
    "    death = persistence_range + birth\n",
    "    pers_dgm = np.vstack((birth, death))\n",
    "        \n",
    "    return pers_dgm.transpose()"
   ]
  },
  {
   "cell_type": "code",
   "execution_count": 7,
   "metadata": {},
   "outputs": [
    {
     "name": "stdout",
     "output_type": "stream",
     "text": [
      "PersImage(pixels=(5, 5), spread=1.0, specs={'maxBD': 1, 'minBD': 0}, kernel_type=\"gaussian\", weighting_type=\"linear\")\n",
      "New code took 1.049817 sec.\n",
      "Old code took 14.936982 sec.\n",
      "13.228175X increase in performance.\n"
     ]
    }
   ],
   "source": [
    "# Construct a default PersistenceImager object\n",
    "persimager_new = PersistenceImager(pixel_size=.2)\n",
    "\n",
    "# Construct an equivalent PersImage object\n",
    "persimager_old = PersImage(pixels=(5, 5), spread=1.0, specs={\n",
    "                \"maxBD\": 1,\n",
    "                \"minBD\": 0\n",
    "            }, weighting_type=\"linear\", kernel_type=\"gaussian\")\n",
    "\n",
    "# Generate some random Persistence diagrams\n",
    "num_pds = 50\n",
    "pds = [random_pd(num_pairs=1000, birth_range=(0.0,1.0), persistence_range=(0.0,1.0), seed=0) for _ in range(num_pds)]\n",
    "\n",
    "import timeit\n",
    "\n",
    "start_time_new = timeit.default_timer()\n",
    "pi_new = persimager_new.transform(pds, skew=True)\n",
    "elapsed_new = timeit.default_timer() - start_time_new\n",
    "\n",
    "start_time_old = timeit.default_timer()\n",
    "pi_old = persimager_old.transform(pds)\n",
    "elapsed_old = timeit.default_timer() - start_time_old\n",
    "\n",
    "print('New code took %f sec.' %elapsed_new)\n",
    "print('Old code took %f sec.' %elapsed_old)\n",
    "print('%fX increase in performance.' %(elapsed_old / elapsed_new - 1))"
   ]
  },
  {
   "cell_type": "code",
   "execution_count": 7,
   "metadata": {},
   "outputs": [
    {
     "data": {
      "text/plain": [
       "(5, 5)"
      ]
     },
     "execution_count": 7,
     "metadata": {},
     "output_type": "execute_result"
    }
   ],
   "source": [
    "pi_new.shape"
   ]
  },
  {
   "cell_type": "code",
   "execution_count": 8,
   "metadata": {},
   "outputs": [
    {
     "data": {
      "text/plain": [
       "(5, 5)"
      ]
     },
     "execution_count": 8,
     "metadata": {},
     "output_type": "execute_result"
    }
   ],
   "source": [
    "pi_old.shape"
   ]
  },
  {
   "cell_type": "code",
   "execution_count": null,
   "metadata": {},
   "outputs": [],
   "source": []
  }
 ],
 "metadata": {
  "kernelspec": {
   "display_name": "persimenv",
   "language": "python",
   "name": "persimenv"
  },
  "language_info": {
   "codemirror_mode": {
    "name": "ipython",
    "version": 3
   },
   "file_extension": ".py",
   "mimetype": "text/x-python",
   "name": "python",
   "nbconvert_exporter": "python",
   "pygments_lexer": "ipython3",
   "version": "3.7.9"
  }
 },
 "nbformat": 4,
 "nbformat_minor": 4
}
